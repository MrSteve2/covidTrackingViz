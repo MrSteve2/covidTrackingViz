{
 "cells": [
  {
   "cell_type": "code",
   "execution_count": 1,
   "metadata": {},
   "outputs": [],
   "source": [
    "import requests\n",
    "import altair as alt\n",
    "import pandas as pd\n",
    "import IPython.display"
   ]
  },
  {
   "cell_type": "code",
   "execution_count": 2,
   "metadata": {},
   "outputs": [],
   "source": [
    "URL = 'https://covidtracking.com/api/states/daily'\n",
    "# sending get request and saving the response as response object \n",
    "r = requests.get(url = URL) \n",
    "  \n",
    "# extracting data in json format \n",
    "data = r.json() \n",
    "df = pd.DataFrame(data)"
   ]
  },
  {
   "cell_type": "code",
   "execution_count": 3,
   "metadata": {},
   "outputs": [],
   "source": [
    "df['deathRateAfterHospitalization'] = df['death'] / df['hospitalized']"
   ]
  },
  {
   "cell_type": "code",
   "execution_count": 4,
   "metadata": {},
   "outputs": [],
   "source": [
    "stateData = {}\n",
    "for state in list(df['state'].unique()) :\n",
    "    stateData[state] = df[df['state'] == state]"
   ]
  },
  {
   "cell_type": "code",
   "execution_count": 12,
   "metadata": {},
   "outputs": [],
   "source": [
    "def statesStatus(state) :\n",
    "    chart1 = alt.Chart(stateData[state], title=state).mark_bar().encode(\n",
    "        x='dateChecked:T',\n",
    "        y='death',\n",
    "        tooltip=list(stateData[state].columns)\n",
    "    ).interactive()\n",
    "    chart2 = alt.Chart(stateData[state], title=state).mark_bar().encode(\n",
    "        x='dateChecked:T',\n",
    "        y='totalTestResults',\n",
    "        tooltip=list(stateData[state].columns)\n",
    "    ).interactive()\n",
    "    chart3 = alt.Chart(stateData[state], title=state).mark_bar().encode(\n",
    "        x='dateChecked:T',\n",
    "        y='hospitalized',\n",
    "        tooltip=list(stateData[state].columns)\n",
    "    ).interactive()\n",
    "    chart4 = alt.Chart(stateData[state], title=state).mark_bar().encode(\n",
    "        x='dateChecked:T',\n",
    "        y='deathRateAfterHospitalization',\n",
    "        tooltip=list(stateData[state].columns)\n",
    "    ).interactive()\n",
    "    (chart1 | chart2 | chart3 | chart4).save(state + 'chart.html', embed_options={'renderer':'svg'})\n",
    "    return chart1 | chart2 | chart3 | chart4"
   ]
  },
  {
   "cell_type": "code",
   "execution_count": 13,
   "metadata": {},
   "outputs": [
    {
     "data": {
      "text/html": [
       "\n",
       "<div id=\"altair-viz-d0cb270cebd04913839b4112621093bb\"></div>\n",
       "<script type=\"text/javascript\">\n",
       "  (function(spec, embedOpt){\n",
       "    const outputDiv = document.getElementById(\"altair-viz-d0cb270cebd04913839b4112621093bb\");\n",
       "    const paths = {\n",
       "      \"vega\": \"https://cdn.jsdelivr.net/npm//vega@5?noext\",\n",
       "      \"vega-lib\": \"https://cdn.jsdelivr.net/npm//vega-lib?noext\",\n",
       "      \"vega-lite\": \"https://cdn.jsdelivr.net/npm//vega-lite@4.0.2?noext\",\n",
       "      \"vega-embed\": \"https://cdn.jsdelivr.net/npm//vega-embed@6?noext\",\n",
       "    };\n",
       "\n",
       "    function loadScript(lib) {\n",
       "      return new Promise(function(resolve, reject) {\n",
       "        var s = document.createElement('script');\n",
       "        s.src = paths[lib];\n",
       "        s.async = true;\n",
       "        s.onload = () => resolve(paths[lib]);\n",
       "        s.onerror = () => reject(`Error loading script: ${paths[lib]}`);\n",
       "        document.getElementsByTagName(\"head\")[0].appendChild(s);\n",
       "      });\n",
       "    }\n",
       "\n",
       "    function showError(err) {\n",
       "      outputDiv.innerHTML = `<div class=\"error\" style=\"color:red;\">${err}</div>`;\n",
       "      throw err;\n",
       "    }\n",
       "\n",
       "    function displayChart(vegaEmbed) {\n",
       "      vegaEmbed(outputDiv, spec, embedOpt)\n",
       "        .catch(err => showError(`Javascript Error: ${err.message}<br>This usually means there's a typo in your chart specification. See the javascript console for the full traceback.`));\n",
       "    }\n",
       "\n",
       "    if(typeof define === \"function\" && define.amd) {\n",
       "      requirejs.config({paths});\n",
       "      require([\"vega-embed\"], displayChart, err => showError(`Error loading script: ${err.message}`));\n",
       "    } else if (typeof vegaEmbed === \"function\") {\n",
       "      displayChart(vegaEmbed);\n",
       "    } else {\n",
       "      loadScript(\"vega\")\n",
       "        .then(() => loadScript(\"vega-lite\"))\n",
       "        .then(() => loadScript(\"vega-embed\"))\n",
       "        .catch(showError)\n",
       "        .then(() => displayChart(vegaEmbed));\n",
       "    }\n",
       "  })({\"config\": {\"view\": {\"continuousWidth\": 400, \"continuousHeight\": 300}}, \"hconcat\": [{\"mark\": \"bar\", \"encoding\": {\"tooltip\": [{\"type\": \"quantitative\", \"field\": \"date\"}, {\"type\": \"nominal\", \"field\": \"state\"}, {\"type\": \"quantitative\", \"field\": \"positive\"}, {\"type\": \"quantitative\", \"field\": \"negative\"}, {\"type\": \"quantitative\", \"field\": \"pending\"}, {\"type\": \"quantitative\", \"field\": \"hospitalized\"}, {\"type\": \"quantitative\", \"field\": \"death\"}, {\"type\": \"quantitative\", \"field\": \"total\"}, {\"type\": \"nominal\", \"field\": \"hash\"}, {\"type\": \"nominal\", \"field\": \"dateChecked\"}, {\"type\": \"quantitative\", \"field\": \"totalTestResults\"}, {\"type\": \"nominal\", \"field\": \"fips\"}, {\"type\": \"quantitative\", \"field\": \"deathIncrease\"}, {\"type\": \"quantitative\", \"field\": \"hospitalizedIncrease\"}, {\"type\": \"quantitative\", \"field\": \"negativeIncrease\"}, {\"type\": \"quantitative\", \"field\": \"positiveIncrease\"}, {\"type\": \"quantitative\", \"field\": \"totalTestResultsIncrease\"}, {\"type\": \"quantitative\", \"field\": \"deathRateAfterHospitalization\"}], \"x\": {\"type\": \"temporal\", \"field\": \"dateChecked\"}, \"y\": {\"type\": \"quantitative\", \"field\": \"death\"}}, \"selection\": {\"selector012\": {\"type\": \"interval\", \"bind\": \"scales\", \"encodings\": [\"x\", \"y\"]}}, \"title\": \"CT\"}, {\"mark\": \"bar\", \"encoding\": {\"tooltip\": [{\"type\": \"quantitative\", \"field\": \"date\"}, {\"type\": \"nominal\", \"field\": \"state\"}, {\"type\": \"quantitative\", \"field\": \"positive\"}, {\"type\": \"quantitative\", \"field\": \"negative\"}, {\"type\": \"quantitative\", \"field\": \"pending\"}, {\"type\": \"quantitative\", \"field\": \"hospitalized\"}, {\"type\": \"quantitative\", \"field\": \"death\"}, {\"type\": \"quantitative\", \"field\": \"total\"}, {\"type\": \"nominal\", \"field\": \"hash\"}, {\"type\": \"nominal\", \"field\": \"dateChecked\"}, {\"type\": \"quantitative\", \"field\": \"totalTestResults\"}, {\"type\": \"nominal\", \"field\": \"fips\"}, {\"type\": \"quantitative\", \"field\": \"deathIncrease\"}, {\"type\": \"quantitative\", \"field\": \"hospitalizedIncrease\"}, {\"type\": \"quantitative\", \"field\": \"negativeIncrease\"}, {\"type\": \"quantitative\", \"field\": \"positiveIncrease\"}, {\"type\": \"quantitative\", \"field\": \"totalTestResultsIncrease\"}, {\"type\": \"quantitative\", \"field\": \"deathRateAfterHospitalization\"}], \"x\": {\"type\": \"temporal\", \"field\": \"dateChecked\"}, \"y\": {\"type\": \"quantitative\", \"field\": \"totalTestResults\"}}, \"selection\": {\"selector013\": {\"type\": \"interval\", \"bind\": \"scales\", \"encodings\": [\"x\", \"y\"]}}, \"title\": \"CT\"}, {\"mark\": \"bar\", \"encoding\": {\"tooltip\": [{\"type\": \"quantitative\", \"field\": \"date\"}, {\"type\": \"nominal\", \"field\": \"state\"}, {\"type\": \"quantitative\", \"field\": \"positive\"}, {\"type\": \"quantitative\", \"field\": \"negative\"}, {\"type\": \"quantitative\", \"field\": \"pending\"}, {\"type\": \"quantitative\", \"field\": \"hospitalized\"}, {\"type\": \"quantitative\", \"field\": \"death\"}, {\"type\": \"quantitative\", \"field\": \"total\"}, {\"type\": \"nominal\", \"field\": \"hash\"}, {\"type\": \"nominal\", \"field\": \"dateChecked\"}, {\"type\": \"quantitative\", \"field\": \"totalTestResults\"}, {\"type\": \"nominal\", \"field\": \"fips\"}, {\"type\": \"quantitative\", \"field\": \"deathIncrease\"}, {\"type\": \"quantitative\", \"field\": \"hospitalizedIncrease\"}, {\"type\": \"quantitative\", \"field\": \"negativeIncrease\"}, {\"type\": \"quantitative\", \"field\": \"positiveIncrease\"}, {\"type\": \"quantitative\", \"field\": \"totalTestResultsIncrease\"}, {\"type\": \"quantitative\", \"field\": \"deathRateAfterHospitalization\"}], \"x\": {\"type\": \"temporal\", \"field\": \"dateChecked\"}, \"y\": {\"type\": \"quantitative\", \"field\": \"hospitalized\"}}, \"selection\": {\"selector014\": {\"type\": \"interval\", \"bind\": \"scales\", \"encodings\": [\"x\", \"y\"]}}, \"title\": \"CT\"}, {\"mark\": \"bar\", \"encoding\": {\"tooltip\": [{\"type\": \"quantitative\", \"field\": \"date\"}, {\"type\": \"nominal\", \"field\": \"state\"}, {\"type\": \"quantitative\", \"field\": \"positive\"}, {\"type\": \"quantitative\", \"field\": \"negative\"}, {\"type\": \"quantitative\", \"field\": \"pending\"}, {\"type\": \"quantitative\", \"field\": \"hospitalized\"}, {\"type\": \"quantitative\", \"field\": \"death\"}, {\"type\": \"quantitative\", \"field\": \"total\"}, {\"type\": \"nominal\", \"field\": \"hash\"}, {\"type\": \"nominal\", \"field\": \"dateChecked\"}, {\"type\": \"quantitative\", \"field\": \"totalTestResults\"}, {\"type\": \"nominal\", \"field\": \"fips\"}, {\"type\": \"quantitative\", \"field\": \"deathIncrease\"}, {\"type\": \"quantitative\", \"field\": \"hospitalizedIncrease\"}, {\"type\": \"quantitative\", \"field\": \"negativeIncrease\"}, {\"type\": \"quantitative\", \"field\": \"positiveIncrease\"}, {\"type\": \"quantitative\", \"field\": \"totalTestResultsIncrease\"}, {\"type\": \"quantitative\", \"field\": \"deathRateAfterHospitalization\"}], \"x\": {\"type\": \"temporal\", \"field\": \"dateChecked\"}, \"y\": {\"type\": \"quantitative\", \"field\": \"deathRateAfterHospitalization\"}}, \"selection\": {\"selector015\": {\"type\": \"interval\", \"bind\": \"scales\", \"encodings\": [\"x\", \"y\"]}}, \"title\": \"CT\"}], \"data\": {\"name\": \"data-3f5efd63a02075e508bde9713a10f0f4\"}, \"$schema\": \"https://vega.github.io/schema/vega-lite/v4.0.2.json\", \"datasets\": {\"data-3f5efd63a02075e508bde9713a10f0f4\": [{\"date\": 20200330, \"state\": \"CT\", \"positive\": 2571.0, \"negative\": 12029.0, \"pending\": null, \"hospitalized\": 517.0, \"death\": 36.0, \"total\": 14600, \"hash\": \"c7a09c7b2d09d7e50d21fb04c5156952768fda52\", \"dateChecked\": \"2020-03-30T20:00:00Z\", \"totalTestResults\": 14600, \"fips\": \"09\", \"deathIncrease\": 2.0, \"hospitalizedIncrease\": 113.0, \"negativeIncrease\": 2122.0, \"positiveIncrease\": 578.0, \"totalTestResultsIncrease\": 2700.0, \"deathRateAfterHospitalization\": 0.06963249516441006}, {\"date\": 20200329, \"state\": \"CT\", \"positive\": 1993.0, \"negative\": 9907.0, \"pending\": null, \"hospitalized\": 404.0, \"death\": 34.0, \"total\": 11900, \"hash\": \"a2fc8b02ed8f3a41030ae22ddb222af3d3c53a8e\", \"dateChecked\": \"2020-03-29T20:00:00Z\", \"totalTestResults\": 11900, \"fips\": \"09\", \"deathIncrease\": 7.0, \"hospitalizedIncrease\": 231.0, \"negativeIncrease\": 2798.0, \"positiveIncrease\": 702.0, \"totalTestResultsIncrease\": 3500.0, \"deathRateAfterHospitalization\": 0.08415841584158416}, {\"date\": 20200328, \"state\": \"CT\", \"positive\": 1291.0, \"negative\": 7109.0, \"pending\": null, \"hospitalized\": 173.0, \"death\": 27.0, \"total\": 8400, \"hash\": \"90ce8de029dfe5ca226ddf1d654ebb6195b03da2\", \"dateChecked\": \"2020-03-28T20:00:00Z\", \"totalTestResults\": 8400, \"fips\": \"09\", \"deathIncrease\": 0.0, \"hospitalizedIncrease\": 0.0, \"negativeIncrease\": 0.0, \"positiveIncrease\": 0.0, \"totalTestResultsIncrease\": 0.0, \"deathRateAfterHospitalization\": 0.15606936416184972}, {\"date\": 20200327, \"state\": \"CT\", \"positive\": 1291.0, \"negative\": 7109.0, \"pending\": null, \"hospitalized\": 173.0, \"death\": 27.0, \"total\": 8400, \"hash\": \"890423bc4025abb5384d27c05582d7b59db0de3c\", \"dateChecked\": \"2020-03-27T20:00:00Z\", \"totalTestResults\": 8400, \"fips\": \"09\", \"deathIncrease\": 6.0, \"hospitalizedIncrease\": 48.0, \"negativeIncrease\": 1484.0, \"positiveIncrease\": 279.0, \"totalTestResultsIncrease\": 1763.0, \"deathRateAfterHospitalization\": 0.15606936416184972}, {\"date\": 20200326, \"state\": \"CT\", \"positive\": 1012.0, \"negative\": 5625.0, \"pending\": null, \"hospitalized\": 125.0, \"death\": 21.0, \"total\": 6637, \"hash\": \"6f853c15409c773ea737ef2d5e4f3be5b2008215\", \"dateChecked\": \"2020-03-26T20:00:00Z\", \"totalTestResults\": 6637, \"fips\": \"09\", \"deathIncrease\": 2.0, \"hospitalizedIncrease\": 12.0, \"negativeIncrease\": 602.0, \"positiveIncrease\": 137.0, \"totalTestResultsIncrease\": 739.0, \"deathRateAfterHospitalization\": 0.168}, {\"date\": 20200325, \"state\": \"CT\", \"positive\": 875.0, \"negative\": 5023.0, \"pending\": null, \"hospitalized\": 113.0, \"death\": 19.0, \"total\": 5898, \"hash\": \"af1091940ffe7ce8947bfbaadd9a2e544baa89ce\", \"dateChecked\": \"2020-03-25T20:00:00Z\", \"totalTestResults\": 5898, \"fips\": \"09\", \"deathIncrease\": 7.0, \"hospitalizedIncrease\": 42.0, \"negativeIncrease\": 341.0, \"positiveIncrease\": 257.0, \"totalTestResultsIncrease\": 598.0, \"deathRateAfterHospitalization\": 0.168141592920354}, {\"date\": 20200324, \"state\": \"CT\", \"positive\": 618.0, \"negative\": 4682.0, \"pending\": null, \"hospitalized\": 71.0, \"death\": 12.0, \"total\": 5300, \"hash\": \"f34accca9a345cddeae7dfea636464d9dd86bff0\", \"dateChecked\": \"2020-03-24T20:00:00Z\", \"totalTestResults\": 5300, \"fips\": \"09\", \"deathIncrease\": 2.0, \"hospitalizedIncrease\": 17.0, \"negativeIncrease\": 597.0, \"positiveIncrease\": 203.0, \"totalTestResultsIncrease\": 800.0, \"deathRateAfterHospitalization\": 0.16901408450704225}, {\"date\": 20200323, \"state\": \"CT\", \"positive\": 415.0, \"negative\": 4085.0, \"pending\": null, \"hospitalized\": 54.0, \"death\": 10.0, \"total\": 4500, \"hash\": \"de97cab582b67461b397b788fc21267a387a8d61\", \"dateChecked\": \"2020-03-23T20:00:00Z\", \"totalTestResults\": 4500, \"fips\": \"09\", \"deathIncrease\": 5.0, \"hospitalizedIncrease\": 11.0, \"negativeIncrease\": 1208.0, \"positiveIncrease\": 192.0, \"totalTestResultsIncrease\": 1400.0, \"deathRateAfterHospitalization\": 0.18518518518518517}, {\"date\": 20200322, \"state\": \"CT\", \"positive\": 223.0, \"negative\": 2877.0, \"pending\": null, \"hospitalized\": 43.0, \"death\": 5.0, \"total\": 3100, \"hash\": \"a63a5e93bb324de39e498270f6eb88d09e81155f\", \"dateChecked\": \"2020-03-22T20:00:00Z\", \"totalTestResults\": 3100, \"fips\": \"09\", \"deathIncrease\": 1.0, \"hospitalizedIncrease\": 43.0, \"negativeIncrease\": 771.0, \"positiveIncrease\": 29.0, \"totalTestResultsIncrease\": 800.0, \"deathRateAfterHospitalization\": 0.11627906976744186}, {\"date\": 20200321, \"state\": \"CT\", \"positive\": 194.0, \"negative\": 2106.0, \"pending\": null, \"hospitalized\": null, \"death\": 4.0, \"total\": 2300, \"hash\": \"959ef064d40bc457202db19ac2297e8456a14bb2\", \"dateChecked\": \"2020-03-21T20:00:00Z\", \"totalTestResults\": 2300, \"fips\": \"09\", \"deathIncrease\": 1.0, \"hospitalizedIncrease\": 0.0, \"negativeIncrease\": 1502.0, \"positiveIncrease\": 0.0, \"totalTestResultsIncrease\": 1502.0, \"deathRateAfterHospitalization\": null}, {\"date\": 20200320, \"state\": \"CT\", \"positive\": 194.0, \"negative\": 604.0, \"pending\": null, \"hospitalized\": null, \"death\": 3.0, \"total\": 798, \"hash\": \"1fad29d88c83384e0f8a8230dca8bd5c7fcb6692\", \"dateChecked\": \"2020-03-20T20:00:00Z\", \"totalTestResults\": 798, \"fips\": \"09\", \"deathIncrease\": 2.0, \"hospitalizedIncrease\": 0.0, \"negativeIncrease\": 0.0, \"positiveIncrease\": 98.0, \"totalTestResultsIncrease\": 98.0, \"deathRateAfterHospitalization\": null}, {\"date\": 20200319, \"state\": \"CT\", \"positive\": 96.0, \"negative\": 604.0, \"pending\": null, \"hospitalized\": null, \"death\": 1.0, \"total\": 700, \"hash\": \"ef2a8c6a9896be1db5614341b351fcca6a6a43af\", \"dateChecked\": \"2020-03-19T20:00:00Z\", \"totalTestResults\": 700, \"fips\": \"09\", \"deathIncrease\": 1.0, \"hospitalizedIncrease\": 0.0, \"negativeIncrease\": 479.0, \"positiveIncrease\": 28.0, \"totalTestResultsIncrease\": 507.0, \"deathRateAfterHospitalization\": null}, {\"date\": 20200318, \"state\": \"CT\", \"positive\": 68.0, \"negative\": 125.0, \"pending\": null, \"hospitalized\": null, \"death\": null, \"total\": 193, \"hash\": \"e3f10a2adb5276a4b79a89acbc27088f24514702\", \"dateChecked\": \"2020-03-18T20:00:00Z\", \"totalTestResults\": 193, \"fips\": \"09\", \"deathIncrease\": 0.0, \"hospitalizedIncrease\": 0.0, \"negativeIncrease\": 0.0, \"positiveIncrease\": 27.0, \"totalTestResultsIncrease\": 27.0, \"deathRateAfterHospitalization\": null}, {\"date\": 20200317, \"state\": \"CT\", \"positive\": 41.0, \"negative\": 125.0, \"pending\": null, \"hospitalized\": null, \"death\": null, \"total\": 166, \"hash\": \"92d3801c1c66c7124b655fe343669c4792e6a224\", \"dateChecked\": \"2020-03-17T20:00:00Z\", \"totalTestResults\": 166, \"fips\": \"09\", \"deathIncrease\": 0.0, \"hospitalizedIncrease\": 0.0, \"negativeIncrease\": 0.0, \"positiveIncrease\": 15.0, \"totalTestResultsIncrease\": 15.0, \"deathRateAfterHospitalization\": null}, {\"date\": 20200316, \"state\": \"CT\", \"positive\": 26.0, \"negative\": 125.0, \"pending\": null, \"hospitalized\": null, \"death\": null, \"total\": 151, \"hash\": \"19fbdc9d6bdda65d947521b52ad346fbb3ed1054\", \"dateChecked\": \"2020-03-16T20:00:00Z\", \"totalTestResults\": 151, \"fips\": \"09\", \"deathIncrease\": 0.0, \"hospitalizedIncrease\": 0.0, \"negativeIncrease\": 0.0, \"positiveIncrease\": 6.0, \"totalTestResultsIncrease\": 6.0, \"deathRateAfterHospitalization\": null}, {\"date\": 20200315, \"state\": \"CT\", \"positive\": 20.0, \"negative\": 125.0, \"pending\": null, \"hospitalized\": null, \"death\": null, \"total\": 145, \"hash\": \"8d40890f893056d08c9192e547a93207b20d5aac\", \"dateChecked\": \"2020-03-15T20:00:00Z\", \"totalTestResults\": 145, \"fips\": \"09\", \"deathIncrease\": 0.0, \"hospitalizedIncrease\": 0.0, \"negativeIncrease\": 0.0, \"positiveIncrease\": 9.0, \"totalTestResultsIncrease\": 9.0, \"deathRateAfterHospitalization\": null}, {\"date\": 20200314, \"state\": \"CT\", \"positive\": 11.0, \"negative\": 125.0, \"pending\": null, \"hospitalized\": null, \"death\": null, \"total\": 136, \"hash\": \"7f31e91a95cc935f0e318f0b2146ac3aeb7a7994\", \"dateChecked\": \"2020-03-14T20:00:00Z\", \"totalTestResults\": 136, \"fips\": \"09\", \"deathIncrease\": 0.0, \"hospitalizedIncrease\": 0.0, \"negativeIncrease\": 26.0, \"positiveIncrease\": 5.0, \"totalTestResultsIncrease\": 31.0, \"deathRateAfterHospitalization\": null}, {\"date\": 20200313, \"state\": \"CT\", \"positive\": 6.0, \"negative\": 99.0, \"pending\": null, \"hospitalized\": null, \"death\": null, \"total\": 105, \"hash\": \"e9d4ae5c70327d3997b429a58671d2fa8e9d67d6\", \"dateChecked\": \"2020-03-13T20:00:00Z\", \"totalTestResults\": 105, \"fips\": \"09\", \"deathIncrease\": 0.0, \"hospitalizedIncrease\": 0.0, \"negativeIncrease\": 10.0, \"positiveIncrease\": 0.0, \"totalTestResultsIncrease\": 10.0, \"deathRateAfterHospitalization\": null}, {\"date\": 20200312, \"state\": \"CT\", \"positive\": 6.0, \"negative\": 89.0, \"pending\": null, \"hospitalized\": null, \"death\": null, \"total\": 95, \"hash\": \"68ed0dcd34dceb73cb21806f23bbbeb5e7620c67\", \"dateChecked\": \"2020-03-12T20:00:00Z\", \"totalTestResults\": 95, \"fips\": \"09\", \"deathIncrease\": 0.0, \"hospitalizedIncrease\": 0.0, \"negativeIncrease\": 18.0, \"positiveIncrease\": 3.0, \"totalTestResultsIncrease\": 21.0, \"deathRateAfterHospitalization\": null}, {\"date\": 20200311, \"state\": \"CT\", \"positive\": 3.0, \"negative\": 71.0, \"pending\": null, \"hospitalized\": null, \"death\": null, \"total\": 74, \"hash\": \"af5022b77637cd3d37d0104509a15b8623a38809\", \"dateChecked\": \"2020-03-11T20:00:00Z\", \"totalTestResults\": 74, \"fips\": \"09\", \"deathIncrease\": 0.0, \"hospitalizedIncrease\": 0.0, \"negativeIncrease\": 17.0, \"positiveIncrease\": 1.0, \"totalTestResultsIncrease\": 18.0, \"deathRateAfterHospitalization\": null}, {\"date\": 20200310, \"state\": \"CT\", \"positive\": 2.0, \"negative\": 54.0, \"pending\": null, \"hospitalized\": null, \"death\": null, \"total\": 56, \"hash\": \"b85c91df018ecbe856b1324c9aeba2602350a0dc\", \"dateChecked\": \"2020-03-10T20:00:00Z\", \"totalTestResults\": 56, \"fips\": \"09\", \"deathIncrease\": 0.0, \"hospitalizedIncrease\": 0.0, \"negativeIncrease\": 8.0, \"positiveIncrease\": 1.0, \"totalTestResultsIncrease\": 9.0, \"deathRateAfterHospitalization\": null}, {\"date\": 20200309, \"state\": \"CT\", \"positive\": 1.0, \"negative\": 46.0, \"pending\": null, \"hospitalized\": null, \"death\": null, \"total\": 47, \"hash\": \"71a1df8bae3abe00ab4f164d2c19fa0ed7aeb364\", \"dateChecked\": \"2020-03-09T20:00:00Z\", \"totalTestResults\": 47, \"fips\": \"09\", \"deathIncrease\": 0.0, \"hospitalizedIncrease\": 0.0, \"negativeIncrease\": 17.0, \"positiveIncrease\": 0.0, \"totalTestResultsIncrease\": 17.0, \"deathRateAfterHospitalization\": null}, {\"date\": 20200308, \"state\": \"CT\", \"positive\": 1.0, \"negative\": 29.0, \"pending\": 8.0, \"hospitalized\": null, \"death\": null, \"total\": 38, \"hash\": \"e46de6421eeb1f8359a2b81a84670392bffe31d6\", \"dateChecked\": \"2020-03-08T20:00:00Z\", \"totalTestResults\": 30, \"fips\": \"09\", \"deathIncrease\": 0.0, \"hospitalizedIncrease\": 0.0, \"negativeIncrease\": 29.0, \"positiveIncrease\": 1.0, \"totalTestResultsIncrease\": 30.0, \"deathRateAfterHospitalization\": null}, {\"date\": 20200307, \"state\": \"CT\", \"positive\": 0.0, \"negative\": null, \"pending\": null, \"hospitalized\": null, \"death\": null, \"total\": 0, \"hash\": \"98d5a4f67b290f67e3280e8c3f14443825d9f62e\", \"dateChecked\": \"2020-03-07T21:00:00Z\", \"totalTestResults\": 0, \"fips\": \"09\", \"deathIncrease\": null, \"hospitalizedIncrease\": null, \"negativeIncrease\": null, \"positiveIncrease\": null, \"totalTestResultsIncrease\": null, \"deathRateAfterHospitalization\": null}]}}, {\"mode\": \"vega-lite\"});\n",
       "</script>"
      ],
      "text/plain": [
       "alt.HConcatChart(...)"
      ]
     },
     "execution_count": 13,
     "metadata": {},
     "output_type": "execute_result"
    }
   ],
   "source": [
    "statesStatus('CT')"
   ]
  },
  {
   "cell_type": "code",
   "execution_count": 11,
   "metadata": {},
   "outputs": [
    {
     "name": "stdout",
     "output_type": "stream",
     "text": [
      "total 84\n",
      "-rw-r--r-- 1 steve steve  2947 Mar 29 21:47  CT.csv\n",
      "-rw-r--r-- 1 steve steve  3589 Mar 29 21:47  NY.csv\n",
      "-rw-r--r-- 1 steve steve 14463 Mar 30 22:40  chart.html\n",
      "-rw-r--r-- 1 steve steve 13621 Mar 30 22:46  chartCT.html\n",
      "-rw-r--r-- 1 steve steve 15725 Mar 30 23:14  CTchart.html\n",
      "-rw-r--r-- 1 steve steve 27062 Mar 30 23:14 'covid tracking.ipynb'\n"
     ]
    }
   ],
   "source": [
    "!ls -ltr"
   ]
  },
  {
   "cell_type": "markdown",
   "metadata": {},
   "source": [
    "# Play Area"
   ]
  },
  {
   "cell_type": "code",
   "execution_count": null,
   "metadata": {},
   "outputs": [],
   "source": []
  },
  {
   "cell_type": "code",
   "execution_count": null,
   "metadata": {},
   "outputs": [],
   "source": [
    "IPython.display.JSON(data)"
   ]
  },
  {
   "cell_type": "code",
   "execution_count": null,
   "metadata": {},
   "outputs": [],
   "source": [
    "AZdf = df[df['state'] == 'AK']\n",
    "AZdf"
   ]
  },
  {
   "cell_type": "code",
   "execution_count": null,
   "metadata": {},
   "outputs": [],
   "source": [
    "stateData['CT'].to_csv('CT.csv', index=False)\n",
    "stateData['NY'].to_csv('NY.csv', index=False)\n"
   ]
  },
  {
   "cell_type": "code",
   "execution_count": null,
   "metadata": {},
   "outputs": [],
   "source": [
    "a=stateData['NY']\n",
    "a['deathRateAfterHospitalization'] = df['death'] / df['hospitalized']\n",
    "a[['death', 'hospitalized', 'deathRateAfterHospitalization']]"
   ]
  },
  {
   "cell_type": "code",
   "execution_count": null,
   "metadata": {},
   "outputs": [],
   "source": [
    "\n",
    "state = 'NY'\n",
    "chart1 = alt.Chart(stateData[state], title=state).mark_bar().encode(\n",
    "    x='dateChecked:T',\n",
    "    y='death',\n",
    "    tooltip=list(stateData[state].columns)\n",
    ").interactive()\n",
    "chart2 = alt.Chart(stateData[state], title=state).mark_bar().encode(\n",
    "    x='dateChecked:T',\n",
    "    y='totalTestResults',\n",
    "    tooltip=list(stateData[state].columns)\n",
    ").interactive()\n",
    "chart3 = alt.Chart(stateData[state], title=state).mark_bar().encode(\n",
    "    x='dateChecked:T',\n",
    "    y='hospitalized',\n",
    "    tooltip=list(stateData[state].columns)\n",
    ").interactive()\n",
    "(chart1 | chart2 | chart3).save('chart.html', embed_options={'renderer':'svg'})"
   ]
  },
  {
   "cell_type": "code",
   "execution_count": null,
   "metadata": {},
   "outputs": [],
   "source": [
    "\n",
    "state = 'NJ'\n",
    "chart1 = alt.Chart(stateData[state], title=state).mark_bar().encode(\n",
    "    x='dateChecked:T',\n",
    "    y='death',\n",
    "    tooltip=list(stateData[state].columns)\n",
    ").interactive()\n",
    "chart2 = alt.Chart(stateData[state], title=state).mark_bar().encode(\n",
    "    x='dateChecked:T',\n",
    "    y='totalTestResults',\n",
    "    tooltip=list(stateData[state].columns)\n",
    ").interactive()\n",
    "chart3 = alt.Chart(stateData[state], title=state).mark_bar().encode(\n",
    "    x='dateChecked:T',\n",
    "    y='hospitalized',\n",
    "    tooltip=list(stateData[state].columns)\n",
    ").interactive()\n",
    "(chart1 | chart2 | chart3).save('chart.html', embed_options={'renderer':'svg'})"
   ]
  },
  {
   "cell_type": "code",
   "execution_count": null,
   "metadata": {},
   "outputs": [],
   "source": [
    "stateData['NJ']"
   ]
  },
  {
   "cell_type": "code",
   "execution_count": null,
   "metadata": {},
   "outputs": [],
   "source": [
    "(chart1 | chart2 | chart3)"
   ]
  },
  {
   "cell_type": "code",
   "execution_count": null,
   "metadata": {},
   "outputs": [],
   "source": [
    "chartArrsy = [chart1, chart2, chart3]\n",
    "alt.vconcat(*chartArrsy)"
   ]
  },
  {
   "cell_type": "code",
   "execution_count": null,
   "metadata": {},
   "outputs": [],
   "source": [
    "alt.Chart(stateData['CT']).mark_point().encode(\n",
    "    x='date:Q',\n",
    "    y='death',\n",
    "    tooltip=list(stateData['NY'].columns)\n",
    ").interactive()"
   ]
  },
  {
   "cell_type": "code",
   "execution_count": null,
   "metadata": {},
   "outputs": [],
   "source": []
  }
 ],
 "metadata": {
  "kernelspec": {
   "display_name": "Python 3",
   "language": "python",
   "name": "python3"
  },
  "language_info": {
   "codemirror_mode": {
    "name": "ipython",
    "version": 3
   },
   "file_extension": ".py",
   "mimetype": "text/x-python",
   "name": "python",
   "nbconvert_exporter": "python",
   "pygments_lexer": "ipython3",
   "version": "3.7.6"
  }
 },
 "nbformat": 4,
 "nbformat_minor": 4
}
